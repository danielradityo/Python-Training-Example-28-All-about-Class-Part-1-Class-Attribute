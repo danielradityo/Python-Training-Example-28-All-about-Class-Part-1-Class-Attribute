{
 "cells": [
  {
   "cell_type": "markdown",
   "metadata": {},
   "source": [
    "# Python Training Example #28 All about Class Part 1 Class Attribute"
   ]
  },
  {
   "cell_type": "markdown",
   "metadata": {},
   "source": [
    "## Class Attribute"
   ]
  },
  {
   "cell_type": "code",
   "execution_count": 7,
   "metadata": {},
   "outputs": [],
   "source": [
    "\"\"\"\"Class Attribute is use for create an attribute in a class. \n",
    "We can generate that attribute to several variable. So if we want to change attribute, \n",
    "we can change the attribute only. We didnt have change all variable. \"\"\"\n",
    "class address:\n",
    "    home = 'Captain Street 45th'"
   ]
  },
  {
   "cell_type": "markdown",
   "metadata": {},
   "source": [
    "## Assign Variable"
   ]
  },
  {
   "cell_type": "code",
   "execution_count": 14,
   "metadata": {},
   "outputs": [],
   "source": [
    "brother = address()\n",
    "sister = address()\n",
    "father = address()\n",
    "mother = address()"
   ]
  },
  {
   "cell_type": "markdown",
   "metadata": {},
   "source": [
    "## Print Class Attribute"
   ]
  },
  {
   "cell_type": "code",
   "execution_count": 21,
   "metadata": {},
   "outputs": [
    {
     "name": "stdout",
     "output_type": "stream",
     "text": [
      "Brother live at  General Street 20th\n",
      "Sister live at  General Street 20th\n",
      "Father live at  General Street 20th\n",
      "Mother live at  General Street 20th\n"
     ]
    }
   ],
   "source": [
    "# For print class use variable.__class__.attribute or can use variable.attribute\n",
    "print('Brother live at ', brother.home)\n",
    "print('Sister live at ', sister.__class__.home)\n",
    "print('Father live at ', father.home)\n",
    "print('Mother live at ', mother.__class__.home)"
   ]
  },
  {
   "cell_type": "markdown",
   "metadata": {},
   "source": [
    "## Change Attribute"
   ]
  },
  {
   "cell_type": "code",
   "execution_count": 17,
   "metadata": {},
   "outputs": [
    {
     "name": "stdout",
     "output_type": "stream",
     "text": [
      "Brother live at  General Street 20th\n",
      "Sister live at  General Street 20th\n",
      "Father live at  General Street 20th\n",
      "Mother live at  General Street 20th\n"
     ]
    }
   ],
   "source": [
    "# If you want change, you just change the attribute, not all variable\n",
    "brother.__class__.home = 'General Street 20th'\n",
    "print('Brother live at ', brother.__class__.home)\n",
    "print('Sister live at ', sister.__class__.home)\n",
    "print('Father live at ', father.__class__.home)\n",
    "print('Mother live at ', mother.__class__.home)"
   ]
  }
 ],
 "metadata": {
  "kernelspec": {
   "display_name": "Python 3",
   "language": "python",
   "name": "python3"
  },
  "language_info": {
   "codemirror_mode": {
    "name": "ipython",
    "version": 3
   },
   "file_extension": ".py",
   "mimetype": "text/x-python",
   "name": "python",
   "nbconvert_exporter": "python",
   "pygments_lexer": "ipython3",
   "version": "3.8.5"
  }
 },
 "nbformat": 4,
 "nbformat_minor": 4
}
